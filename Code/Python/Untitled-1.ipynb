{
 "cells": [
  {
   "cell_type": "code",
   "execution_count": 63,
   "metadata": {},
   "outputs": [],
   "source": [
    "import rasterio\n",
    "import geopandas as gpd\n",
    "import numpy as np\n",
    "from datetime import datetime, timedelta"
   ]
  },
  {
   "attachments": {},
   "cell_type": "markdown",
   "metadata": {},
   "source": [
    "<font color = 'orange'>Extract raster values to GPS points\n",
    "</font>"
   ]
  },
  {
   "attachments": {},
   "cell_type": "markdown",
   "metadata": {},
   "source": [
    "<font color = 'green'>File path\n",
    "</font>"
   ]
  },
  {
   "cell_type": "code",
   "execution_count": 9,
   "metadata": {},
   "outputs": [],
   "source": [
    "File_folder = \"E:/M_3/TickBases/Meeting2023/Github2/TickbasePrj/Data/GPS\"\n",
    "pts_path = File_folder + \"/Simu_data.shp\"\n",
    "LST_path = 'E:/M_3/TickBases/Progress/2022/Aug/ArcMap/Al_Ek/Raster/Nava_sum_06.tif'"
   ]
  },
  {
   "cell_type": "code",
   "execution_count": 110,
   "metadata": {},
   "outputs": [
    {
     "data": {
      "text/html": [
       "<div>\n",
       "<style scoped>\n",
       "    .dataframe tbody tr th:only-of-type {\n",
       "        vertical-align: middle;\n",
       "    }\n",
       "\n",
       "    .dataframe tbody tr th {\n",
       "        vertical-align: top;\n",
       "    }\n",
       "\n",
       "    .dataframe thead th {\n",
       "        text-align: right;\n",
       "    }\n",
       "</style>\n",
       "<table border=\"1\" class=\"dataframe\">\n",
       "  <thead>\n",
       "    <tr style=\"text-align: right;\">\n",
       "      <th></th>\n",
       "      <th>GMT_Time</th>\n",
       "      <th>Latitude</th>\n",
       "      <th>Longitude</th>\n",
       "      <th>Altitude</th>\n",
       "      <th>Duration</th>\n",
       "      <th>Temperatur</th>\n",
       "      <th>Voltage</th>\n",
       "      <th>DOP</th>\n",
       "      <th>Satellites</th>\n",
       "      <th>Cause_of_F</th>\n",
       "      <th>FMT_3fac</th>\n",
       "      <th>GMT_Time_8</th>\n",
       "      <th>Cause_of_8</th>\n",
       "      <th>GMT_Time_1</th>\n",
       "      <th>Cause_of_1</th>\n",
       "      <th>ID</th>\n",
       "      <th>geometry</th>\n",
       "      <th>LST</th>\n",
       "    </tr>\n",
       "  </thead>\n",
       "  <tbody>\n",
       "    <tr>\n",
       "      <th>34319</th>\n",
       "      <td>10/8/2021 14:30</td>\n",
       "      <td>36.552433</td>\n",
       "      <td>-109.050749</td>\n",
       "      <td>1846.72</td>\n",
       "      <td>17</td>\n",
       "      <td>20.5</td>\n",
       "      <td>0</td>\n",
       "      <td>1.6</td>\n",
       "      <td>7</td>\n",
       "      <td>GPS Schedule</td>\n",
       "      <td>0.0</td>\n",
       "      <td>10/8/2021 14:30</td>\n",
       "      <td>GPS Schedule</td>\n",
       "      <td>10/8/2021 14:30</td>\n",
       "      <td>GPS Schedule</td>\n",
       "      <td>799</td>\n",
       "      <td>POINT (674457.762 4046991.987)</td>\n",
       "      <td>[44.158905]</td>\n",
       "    </tr>\n",
       "    <tr>\n",
       "      <th>34320</th>\n",
       "      <td>10/8/2021 15:00</td>\n",
       "      <td>36.474546</td>\n",
       "      <td>-109.097644</td>\n",
       "      <td>2461.73</td>\n",
       "      <td>16</td>\n",
       "      <td>17.5</td>\n",
       "      <td>0</td>\n",
       "      <td>4.0</td>\n",
       "      <td>5</td>\n",
       "      <td>GPS Schedule</td>\n",
       "      <td>0.0</td>\n",
       "      <td>10/8/2021 15:00</td>\n",
       "      <td>GPS Schedule</td>\n",
       "      <td>10/8/2021 15:00</td>\n",
       "      <td>GPS Schedule</td>\n",
       "      <td>799</td>\n",
       "      <td>POINT (670431.042 4038266.901)</td>\n",
       "      <td>[32.123943]</td>\n",
       "    </tr>\n",
       "    <tr>\n",
       "      <th>34321</th>\n",
       "      <td>10/8/2021 15:15</td>\n",
       "      <td>36.474649</td>\n",
       "      <td>-109.097595</td>\n",
       "      <td>2463.06</td>\n",
       "      <td>15</td>\n",
       "      <td>17.5</td>\n",
       "      <td>0</td>\n",
       "      <td>3.4</td>\n",
       "      <td>4</td>\n",
       "      <td>GPS Schedule</td>\n",
       "      <td>0.0</td>\n",
       "      <td>10/8/2021 15:15</td>\n",
       "      <td>GPS Schedule</td>\n",
       "      <td>10/8/2021 15:15</td>\n",
       "      <td>GPS Schedule</td>\n",
       "      <td>799</td>\n",
       "      <td>POINT (670435.170 4038278.436)</td>\n",
       "      <td>[31.932274]</td>\n",
       "    </tr>\n",
       "    <tr>\n",
       "      <th>34322</th>\n",
       "      <td>10/8/2021 15:46</td>\n",
       "      <td>36.474399</td>\n",
       "      <td>-109.097615</td>\n",
       "      <td>2424.88</td>\n",
       "      <td>62</td>\n",
       "      <td>18.5</td>\n",
       "      <td>0</td>\n",
       "      <td>3.8</td>\n",
       "      <td>5</td>\n",
       "      <td>GPS Schedule</td>\n",
       "      <td>0.0</td>\n",
       "      <td>10/8/2021 15:46</td>\n",
       "      <td>GPS Schedule</td>\n",
       "      <td>10/8/2021 15:46</td>\n",
       "      <td>GPS Schedule</td>\n",
       "      <td>799</td>\n",
       "      <td>POINT (670433.971 4038250.688)</td>\n",
       "      <td>[32.629944]</td>\n",
       "    </tr>\n",
       "    <tr>\n",
       "      <th>34323</th>\n",
       "      <td>10/8/2021 16:00</td>\n",
       "      <td>36.475265</td>\n",
       "      <td>-109.099667</td>\n",
       "      <td>2469.86</td>\n",
       "      <td>12</td>\n",
       "      <td>15.0</td>\n",
       "      <td>0</td>\n",
       "      <td>38.0</td>\n",
       "      <td>4</td>\n",
       "      <td>GPS Schedule</td>\n",
       "      <td>0.0</td>\n",
       "      <td>10/8/2021 16:00</td>\n",
       "      <td>GPS Schedule</td>\n",
       "      <td>10/8/2021 16:00</td>\n",
       "      <td>GPS Schedule</td>\n",
       "      <td>799</td>\n",
       "      <td>POINT (670248.210 4038343.079)</td>\n",
       "      <td>[32.32946]</td>\n",
       "    </tr>\n",
       "  </tbody>\n",
       "</table>\n",
       "</div>"
      ],
      "text/plain": [
       "              GMT_Time   Latitude   Longitude  Altitude  Duration  Temperatur  \\\n",
       "34319  10/8/2021 14:30  36.552433 -109.050749   1846.72        17        20.5   \n",
       "34320  10/8/2021 15:00  36.474546 -109.097644   2461.73        16        17.5   \n",
       "34321  10/8/2021 15:15  36.474649 -109.097595   2463.06        15        17.5   \n",
       "34322  10/8/2021 15:46  36.474399 -109.097615   2424.88        62        18.5   \n",
       "34323  10/8/2021 16:00  36.475265 -109.099667   2469.86        12        15.0   \n",
       "\n",
       "       Voltage   DOP  Satellites    Cause_of_F  FMT_3fac       GMT_Time_8  \\\n",
       "34319        0   1.6           7  GPS Schedule       0.0  10/8/2021 14:30   \n",
       "34320        0   4.0           5  GPS Schedule       0.0  10/8/2021 15:00   \n",
       "34321        0   3.4           4  GPS Schedule       0.0  10/8/2021 15:15   \n",
       "34322        0   3.8           5  GPS Schedule       0.0  10/8/2021 15:46   \n",
       "34323        0  38.0           4  GPS Schedule       0.0  10/8/2021 16:00   \n",
       "\n",
       "         Cause_of_8       GMT_Time_1    Cause_of_1   ID  \\\n",
       "34319  GPS Schedule  10/8/2021 14:30  GPS Schedule  799   \n",
       "34320  GPS Schedule  10/8/2021 15:00  GPS Schedule  799   \n",
       "34321  GPS Schedule  10/8/2021 15:15  GPS Schedule  799   \n",
       "34322  GPS Schedule  10/8/2021 15:46  GPS Schedule  799   \n",
       "34323  GPS Schedule  10/8/2021 16:00  GPS Schedule  799   \n",
       "\n",
       "                             geometry          LST  \n",
       "34319  POINT (674457.762 4046991.987)  [44.158905]  \n",
       "34320  POINT (670431.042 4038266.901)  [32.123943]  \n",
       "34321  POINT (670435.170 4038278.436)  [31.932274]  \n",
       "34322  POINT (670433.971 4038250.688)  [32.629944]  \n",
       "34323  POINT (670248.210 4038343.079)   [32.32946]  "
      ]
     },
     "execution_count": 110,
     "metadata": {},
     "output_type": "execute_result"
    }
   ],
   "source": [
    "pts = gpd.read_file(pts_path)\n",
    "coords = [(x,y) for x, y in zip(pts.Longitude, pts.Latitude)]\n",
    "LST = rasterio.open(LST_path)\n",
    "\n",
    "# Extract Land Surfact Temperature (LST)\n",
    "pts['LST'] = [x for x in LST.sample(coords)]\n",
    "pts.tail()"
   ]
  },
  {
   "cell_type": "code",
   "execution_count": 118,
   "metadata": {},
   "outputs": [
    {
     "ename": "ValueError",
     "evalue": "time data '' does not match format '%m/%d/%Y %H:%M'",
     "output_type": "error",
     "traceback": [
      "\u001b[1;31m---------------------------------------------------------------------------\u001b[0m",
      "\u001b[1;31mValueError\u001b[0m                                Traceback (most recent call last)",
      "\u001b[1;32m<ipython-input-118-6daef6dbef87>\u001b[0m in \u001b[0;36m<module>\u001b[1;34m\u001b[0m\n\u001b[0;32m     14\u001b[0m                     \u001b[0mWeek_no\u001b[0m \u001b[1;33m=\u001b[0m \u001b[0mWeek_no\u001b[0m \u001b[1;33m+\u001b[0m \u001b[1;36m1\u001b[0m\u001b[1;33m\u001b[0m\u001b[1;33m\u001b[0m\u001b[0m\n\u001b[0;32m     15\u001b[0m                     \u001b[0mIdividual\u001b[0m \u001b[1;33m=\u001b[0m \u001b[0mIdividual\u001b[0m\u001b[1;33m.\u001b[0m\u001b[0mappend\u001b[0m\u001b[1;33m(\u001b[0m\u001b[1;33m[\u001b[0m\u001b[1;33m{\u001b[0m\u001b[1;34m'ID'\u001b[0m\u001b[1;33m:\u001b[0m\u001b[0mi\u001b[0m\u001b[1;33m,\u001b[0m\u001b[1;34m'Week'\u001b[0m\u001b[1;33m:\u001b[0m\u001b[0mWeek_no\u001b[0m\u001b[1;33m,\u001b[0m\u001b[1;34m'LST_Sum'\u001b[0m\u001b[1;33m:\u001b[0m\u001b[1;36m0\u001b[0m\u001b[1;33m,\u001b[0m\u001b[1;34m'NDVI_Sum'\u001b[0m\u001b[1;33m:\u001b[0m\u001b[1;36m0\u001b[0m\u001b[1;33m,\u001b[0m\u001b[1;34m'RH_Sum'\u001b[0m\u001b[1;33m:\u001b[0m\u001b[1;36m0\u001b[0m\u001b[1;33m,\u001b[0m\u001b[1;34m'Pre_Sum'\u001b[0m\u001b[1;33m:\u001b[0m\u001b[1;36m0\u001b[0m\u001b[1;33m}\u001b[0m\u001b[1;33m]\u001b[0m\u001b[1;33m,\u001b[0m\u001b[0mignore_index\u001b[0m \u001b[1;33m=\u001b[0m \u001b[1;32mTrue\u001b[0m\u001b[1;33m)\u001b[0m\u001b[1;33m\u001b[0m\u001b[1;33m\u001b[0m\u001b[0m\n\u001b[1;32m---> 16\u001b[1;33m             \u001b[0mOri_time_datatime\u001b[0m \u001b[1;33m=\u001b[0m \u001b[0mdatetime\u001b[0m\u001b[1;33m.\u001b[0m\u001b[0mstrptime\u001b[0m\u001b[1;33m(\u001b[0m\u001b[0mOrigin_time_str\u001b[0m\u001b[1;33m,\u001b[0m \u001b[1;34m'%m/%d/%Y %H:%M'\u001b[0m\u001b[1;33m)\u001b[0m\u001b[1;33m\u001b[0m\u001b[1;33m\u001b[0m\u001b[0m\n\u001b[0m\u001b[0;32m     17\u001b[0m             \u001b[0mCurr_time_datatime\u001b[0m \u001b[1;33m=\u001b[0m \u001b[0mdatetime\u001b[0m\u001b[1;33m.\u001b[0m\u001b[0mstrptime\u001b[0m\u001b[1;33m(\u001b[0m\u001b[0mpts\u001b[0m\u001b[1;33m.\u001b[0m\u001b[0mloc\u001b[0m\u001b[1;33m[\u001b[0m\u001b[0mj\u001b[0m\u001b[1;33m,\u001b[0m\u001b[1;34m'GMT_Time'\u001b[0m\u001b[1;33m]\u001b[0m\u001b[1;33m,\u001b[0m \u001b[1;34m'%m/%d/%Y %H:%M'\u001b[0m\u001b[1;33m)\u001b[0m\u001b[1;33m\u001b[0m\u001b[1;33m\u001b[0m\u001b[0m\n\u001b[0;32m     18\u001b[0m             \u001b[1;32mif\u001b[0m \u001b[0mCurr_time_datatime\u001b[0m \u001b[1;33m<=\u001b[0m \u001b[0mOri_time_datatime\u001b[0m\u001b[1;33m+\u001b[0m\u001b[0mtimedelta\u001b[0m\u001b[1;33m(\u001b[0m\u001b[0mdays\u001b[0m\u001b[1;33m=\u001b[0m\u001b[1;36m7\u001b[0m\u001b[1;33m)\u001b[0m\u001b[1;33m:\u001b[0m\u001b[1;33m\u001b[0m\u001b[1;33m\u001b[0m\u001b[0m\n",
      "\u001b[1;32mc:\\ProgramData\\Anaconda3\\lib\\_strptime.py\u001b[0m in \u001b[0;36m_strptime_datetime\u001b[1;34m(cls, data_string, format)\u001b[0m\n\u001b[0;32m    566\u001b[0m     \"\"\"Return a class cls instance based on the input string and the\n\u001b[0;32m    567\u001b[0m     format string.\"\"\"\n\u001b[1;32m--> 568\u001b[1;33m     \u001b[0mtt\u001b[0m\u001b[1;33m,\u001b[0m \u001b[0mfraction\u001b[0m\u001b[1;33m,\u001b[0m \u001b[0mgmtoff_fraction\u001b[0m \u001b[1;33m=\u001b[0m \u001b[0m_strptime\u001b[0m\u001b[1;33m(\u001b[0m\u001b[0mdata_string\u001b[0m\u001b[1;33m,\u001b[0m \u001b[0mformat\u001b[0m\u001b[1;33m)\u001b[0m\u001b[1;33m\u001b[0m\u001b[1;33m\u001b[0m\u001b[0m\n\u001b[0m\u001b[0;32m    569\u001b[0m     \u001b[0mtzname\u001b[0m\u001b[1;33m,\u001b[0m \u001b[0mgmtoff\u001b[0m \u001b[1;33m=\u001b[0m \u001b[0mtt\u001b[0m\u001b[1;33m[\u001b[0m\u001b[1;33m-\u001b[0m\u001b[1;36m2\u001b[0m\u001b[1;33m:\u001b[0m\u001b[1;33m]\u001b[0m\u001b[1;33m\u001b[0m\u001b[1;33m\u001b[0m\u001b[0m\n\u001b[0;32m    570\u001b[0m     \u001b[0margs\u001b[0m \u001b[1;33m=\u001b[0m \u001b[0mtt\u001b[0m\u001b[1;33m[\u001b[0m\u001b[1;33m:\u001b[0m\u001b[1;36m6\u001b[0m\u001b[1;33m]\u001b[0m \u001b[1;33m+\u001b[0m \u001b[1;33m(\u001b[0m\u001b[0mfraction\u001b[0m\u001b[1;33m,\u001b[0m\u001b[1;33m)\u001b[0m\u001b[1;33m\u001b[0m\u001b[1;33m\u001b[0m\u001b[0m\n",
      "\u001b[1;32mc:\\ProgramData\\Anaconda3\\lib\\_strptime.py\u001b[0m in \u001b[0;36m_strptime\u001b[1;34m(data_string, format)\u001b[0m\n\u001b[0;32m    347\u001b[0m     \u001b[0mfound\u001b[0m \u001b[1;33m=\u001b[0m \u001b[0mformat_regex\u001b[0m\u001b[1;33m.\u001b[0m\u001b[0mmatch\u001b[0m\u001b[1;33m(\u001b[0m\u001b[0mdata_string\u001b[0m\u001b[1;33m)\u001b[0m\u001b[1;33m\u001b[0m\u001b[1;33m\u001b[0m\u001b[0m\n\u001b[0;32m    348\u001b[0m     \u001b[1;32mif\u001b[0m \u001b[1;32mnot\u001b[0m \u001b[0mfound\u001b[0m\u001b[1;33m:\u001b[0m\u001b[1;33m\u001b[0m\u001b[1;33m\u001b[0m\u001b[0m\n\u001b[1;32m--> 349\u001b[1;33m         raise ValueError(\"time data %r does not match format %r\" %\n\u001b[0m\u001b[0;32m    350\u001b[0m                          (data_string, format))\n\u001b[0;32m    351\u001b[0m     \u001b[1;32mif\u001b[0m \u001b[0mlen\u001b[0m\u001b[1;33m(\u001b[0m\u001b[0mdata_string\u001b[0m\u001b[1;33m)\u001b[0m \u001b[1;33m!=\u001b[0m \u001b[0mfound\u001b[0m\u001b[1;33m.\u001b[0m\u001b[0mend\u001b[0m\u001b[1;33m(\u001b[0m\u001b[1;33m)\u001b[0m\u001b[1;33m:\u001b[0m\u001b[1;33m\u001b[0m\u001b[1;33m\u001b[0m\u001b[0m\n",
      "\u001b[1;31mValueError\u001b[0m: time data '' does not match format '%m/%d/%Y %H:%M'"
     ]
    }
   ],
   "source": [
    "Pts_ID = np.array(pts.ID)\n",
    "Pts_ID = np.unique(Pts_ID)\n",
    "Origin_time_str = \"\"\n",
    "Idividual = gpd.GeoDataFrame(columns = ['ID','Week','LST_Sum','NDVI_Sum','RH_Sum','Pre_Sum'])\n",
    "Week_no = 0\n",
    "\n",
    "for i in Pts_ID:\n",
    "    for j in pts.index:\n",
    "        if pts.loc[j,'ID'] == i:\n",
    "            if j == 0:\n",
    "                Week_no = 0\n",
    "                if pts.loc[j,\"ID\"] != pts.loc[j-1,\"ID\"]:\n",
    "                    Origin_time_str = pts.loc[j,\"GMT_Time\"]\n",
    "                    Week_no = Week_no + 1\n",
    "                    Idividual = Idividual.append([{'ID':i,'Week':Week_no,'LST_Sum':0,'NDVI_Sum':0,'RH_Sum':0,'Pre_Sum':0}],ignore_index = True)\n",
    "            Ori_time_datatime = datetime.strptime(Origin_time_str, '%m/%d/%Y %H:%M')\n",
    "            Curr_time_datatime = datetime.strptime(pts.loc[j,'GMT_Time'], '%m/%d/%Y %H:%M')\n",
    "            if Curr_time_datatime <= Ori_time_datatime+timedelta(days=7):\n",
    "                Idividual.loc[Week_no-1, 'LST_Sum'] = Idividual.loc[Week_no-1,'LST_Sum']+pts.loc[j,'LST']\n",
    "            \n",
    "\n"
   ]
  },
  {
   "cell_type": "code",
   "execution_count": 117,
   "metadata": {},
   "outputs": [
    {
     "data": {
      "text/html": [
       "<div>\n",
       "<style scoped>\n",
       "    .dataframe tbody tr th:only-of-type {\n",
       "        vertical-align: middle;\n",
       "    }\n",
       "\n",
       "    .dataframe tbody tr th {\n",
       "        vertical-align: top;\n",
       "    }\n",
       "\n",
       "    .dataframe thead th {\n",
       "        text-align: right;\n",
       "    }\n",
       "</style>\n",
       "<table border=\"1\" class=\"dataframe\">\n",
       "  <thead>\n",
       "    <tr style=\"text-align: right;\">\n",
       "      <th></th>\n",
       "      <th>ID</th>\n",
       "      <th>Week</th>\n",
       "      <th>LST_Sum</th>\n",
       "      <th>NDVI_Sum</th>\n",
       "      <th>RH_Sum</th>\n",
       "      <th>Pre_Sum</th>\n",
       "    </tr>\n",
       "  </thead>\n",
       "  <tbody>\n",
       "    <tr>\n",
       "      <th>0</th>\n",
       "      <td>717</td>\n",
       "      <td>1</td>\n",
       "      <td>[8018.377]</td>\n",
       "      <td>0</td>\n",
       "      <td>0</td>\n",
       "      <td>0</td>\n",
       "    </tr>\n",
       "    <tr>\n",
       "      <th>1</th>\n",
       "      <td>799</td>\n",
       "      <td>2</td>\n",
       "      <td>[7509.434]</td>\n",
       "      <td>0</td>\n",
       "      <td>0</td>\n",
       "      <td>0</td>\n",
       "    </tr>\n",
       "    <tr>\n",
       "      <th>2</th>\n",
       "      <td>800</td>\n",
       "      <td>3</td>\n",
       "      <td>[12399.782]</td>\n",
       "      <td>0</td>\n",
       "      <td>0</td>\n",
       "      <td>0</td>\n",
       "    </tr>\n",
       "    <tr>\n",
       "      <th>3</th>\n",
       "      <td>801</td>\n",
       "      <td>4</td>\n",
       "      <td>[13554.577]</td>\n",
       "      <td>0</td>\n",
       "      <td>0</td>\n",
       "      <td>0</td>\n",
       "    </tr>\n",
       "    <tr>\n",
       "      <th>4</th>\n",
       "      <td>802</td>\n",
       "      <td>5</td>\n",
       "      <td>[8960.09]</td>\n",
       "      <td>0</td>\n",
       "      <td>0</td>\n",
       "      <td>0</td>\n",
       "    </tr>\n",
       "    <tr>\n",
       "      <th>5</th>\n",
       "      <td>803</td>\n",
       "      <td>6</td>\n",
       "      <td>[15048.604]</td>\n",
       "      <td>0</td>\n",
       "      <td>0</td>\n",
       "      <td>0</td>\n",
       "    </tr>\n",
       "  </tbody>\n",
       "</table>\n",
       "</div>"
      ],
      "text/plain": [
       "    ID Week      LST_Sum NDVI_Sum RH_Sum Pre_Sum\n",
       "0  717    1   [8018.377]        0      0       0\n",
       "1  799    2   [7509.434]        0      0       0\n",
       "2  800    3  [12399.782]        0      0       0\n",
       "3  801    4  [13554.577]        0      0       0\n",
       "4  802    5    [8960.09]        0      0       0\n",
       "5  803    6  [15048.604]        0      0       0"
      ]
     },
     "execution_count": 117,
     "metadata": {},
     "output_type": "execute_result"
    }
   ],
   "source": [
    "Idividual"
   ]
  },
  {
   "cell_type": "code",
   "execution_count": 121,
   "metadata": {},
   "outputs": [
    {
     "data": {
      "text/plain": [
       "717"
      ]
     },
     "execution_count": 121,
     "metadata": {},
     "output_type": "execute_result"
    }
   ],
   "source": [
    "i"
   ]
  },
  {
   "cell_type": "code",
   "execution_count": 105,
   "metadata": {},
   "outputs": [
    {
     "data": {
      "text/html": [
       "<div>\n",
       "<style scoped>\n",
       "    .dataframe tbody tr th:only-of-type {\n",
       "        vertical-align: middle;\n",
       "    }\n",
       "\n",
       "    .dataframe tbody tr th {\n",
       "        vertical-align: top;\n",
       "    }\n",
       "\n",
       "    .dataframe thead th {\n",
       "        text-align: right;\n",
       "    }\n",
       "</style>\n",
       "<table border=\"1\" class=\"dataframe\">\n",
       "  <thead>\n",
       "    <tr style=\"text-align: right;\">\n",
       "      <th></th>\n",
       "      <th>Week</th>\n",
       "      <th>LST_Sum</th>\n",
       "      <th>NDVI_Sum</th>\n",
       "      <th>RH_Sum</th>\n",
       "      <th>Pre_Sum</th>\n",
       "    </tr>\n",
       "  </thead>\n",
       "  <tbody>\n",
       "    <tr>\n",
       "      <th>0</th>\n",
       "      <td>0</td>\n",
       "      <td>1</td>\n",
       "      <td>0</td>\n",
       "      <td>0</td>\n",
       "      <td>0</td>\n",
       "    </tr>\n",
       "  </tbody>\n",
       "</table>\n",
       "</div>"
      ],
      "text/plain": [
       "  Week LST_Sum NDVI_Sum RH_Sum Pre_Sum\n",
       "0    0       1        0      0       0"
      ]
     },
     "execution_count": 105,
     "metadata": {},
     "output_type": "execute_result"
    }
   ],
   "source": [
    "ID_717 = gpd.GeoDataFrame(columns = ['Week','LST_Sum','NDVI_Sum','RH_Sum','Pre_Sum'])\n",
    "ID_717 = ID_717.append([{'Week':0,'LST_Sum':0,'NDVI_Sum':0,'RH_Sum':0,'Pre_Sum':0}],ignore_index = True)\n",
    "\n",
    "ID_717.loc[0,\"LST_Sum\"] = ID_717.loc[0,\"LST_Sum\"]+1\n",
    "#ID_717['Lst_Sum'] = 1\n",
    "\n",
    "ID_717"
   ]
  },
  {
   "cell_type": "code",
   "execution_count": 71,
   "metadata": {},
   "outputs": [
    {
     "data": {
      "text/plain": [
       "datetime.datetime(2021, 6, 29, 16, 0)"
      ]
     },
     "execution_count": 71,
     "metadata": {},
     "output_type": "execute_result"
    }
   ],
   "source": [
    "datetime_object"
   ]
  },
  {
   "cell_type": "code",
   "execution_count": 76,
   "metadata": {},
   "outputs": [
    {
     "data": {
      "text/plain": [
       "False"
      ]
     },
     "execution_count": 76,
     "metadata": {},
     "output_type": "execute_result"
    }
   ],
   "source": [
    "\n",
    "datetime_str = pts.loc[1,\"GMT_Time\"]\n",
    "datetime_str2 = pts.loc[500,\"GMT_Time\"]\n",
    "#datetime_str = '06/29/21 13:55:26'\n",
    "\n",
    "#datetime_str = '09/19/22 13:55:26'\n",
    "\n",
    "datetime_object = datetime.strptime(datetime_str, '%m/%d/%Y %H:%M')\n",
    "\n",
    "datetime_object2 = datetime.strptime(datetime_str2, '%m/%d/%Y %H:%M')\n",
    "\n",
    "datetime_object2 < datetime_object+timedelta(days=7)"
   ]
  }
 ],
 "metadata": {
  "kernelspec": {
   "display_name": "base",
   "language": "python",
   "name": "python3"
  },
  "language_info": {
   "codemirror_mode": {
    "name": "ipython",
    "version": 3
   },
   "file_extension": ".py",
   "mimetype": "text/x-python",
   "name": "python",
   "nbconvert_exporter": "python",
   "pygments_lexer": "ipython3",
   "version": "3.8.8"
  },
  "orig_nbformat": 4
 },
 "nbformat": 4,
 "nbformat_minor": 2
}
